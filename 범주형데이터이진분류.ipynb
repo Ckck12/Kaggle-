{
 "cells": [
  {
   "cell_type": "code",
   "execution_count": 1,
   "id": "27eb17b9",
   "metadata": {
    "_cell_guid": "b1076dfc-b9ad-4769-8c92-a6c4dae69d19",
    "_uuid": "8f2839f25d086af736a60e9eeb907d3b93b6e0e5",
    "execution": {
     "iopub.execute_input": "2022-11-10T16:08:56.761040Z",
     "iopub.status.busy": "2022-11-10T16:08:56.759931Z",
     "iopub.status.idle": "2022-11-10T16:08:56.773809Z",
     "shell.execute_reply": "2022-11-10T16:08:56.772758Z"
    },
    "papermill": {
     "duration": 0.026572,
     "end_time": "2022-11-10T16:08:56.776470",
     "exception": false,
     "start_time": "2022-11-10T16:08:56.749898",
     "status": "completed"
    },
    "tags": []
   },
   "outputs": [
    {
     "name": "stdout",
     "output_type": "stream",
     "text": [
      "/kaggle/input/cat-in-the-dat/sample_submission.csv\n",
      "/kaggle/input/cat-in-the-dat/train.csv\n",
      "/kaggle/input/cat-in-the-dat/test.csv\n"
     ]
    }
   ],
   "source": [
    "# This Python 3 environment comes with many helpful analytics libraries installed\n",
    "# It is defined by the kaggle/python Docker image: https://github.com/kaggle/docker-python\n",
    "# For example, here's several helpful packages to load\n",
    "\n",
    "import numpy as np # linear algebra\n",
    "import pandas as pd # data processing, CSV file I/O (e.g. pd.read_csv)\n",
    "\n",
    "# Input data files are available in the read-only \"../input/\" directory\n",
    "# For example, running this (by clicking run or pressing Shift+Enter) will list all files under the input directory\n",
    "\n",
    "import os\n",
    "for dirname, _, filenames in os.walk('/kaggle/input'):\n",
    "    for filename in filenames:\n",
    "        print(os.path.join(dirname, filename))\n",
    "\n",
    "# You can write up to 20GB to the current directory (/kaggle/working/) that gets preserved as output when you create a version using \"Save & Run All\" \n",
    "# You can also write temporary files to /kaggle/temp/, but they won't be saved outside of the current session"
   ]
  },
  {
   "cell_type": "code",
   "execution_count": 2,
   "id": "1b58a2a1",
   "metadata": {
    "execution": {
     "iopub.execute_input": "2022-11-10T16:08:56.792023Z",
     "iopub.status.busy": "2022-11-10T16:08:56.791600Z",
     "iopub.status.idle": "2022-11-10T16:08:59.931923Z",
     "shell.execute_reply": "2022-11-10T16:08:59.930714Z"
    },
    "papermill": {
     "duration": 3.15114,
     "end_time": "2022-11-10T16:08:59.934760",
     "exception": false,
     "start_time": "2022-11-10T16:08:56.783620",
     "status": "completed"
    },
    "tags": []
   },
   "outputs": [],
   "source": [
    "import pandas as pd\n",
    "data_path = '/kaggle/input/cat-in-the-dat/'\n",
    "\n",
    "train = pd.read_csv(data_path + 'train.csv', index_col = 'id')\n",
    "test = pd.read_csv(data_path + 'test.csv', index_col = 'id')\n",
    "submission = pd.read_csv(data_path + 'sample_submission.csv', index_col = 'id')\n"
   ]
  },
  {
   "cell_type": "code",
   "execution_count": 3,
   "id": "4da8d1a1",
   "metadata": {
    "execution": {
     "iopub.execute_input": "2022-11-10T16:08:59.950070Z",
     "iopub.status.busy": "2022-11-10T16:08:59.949383Z",
     "iopub.status.idle": "2022-11-10T16:08:59.958617Z",
     "shell.execute_reply": "2022-11-10T16:08:59.957555Z"
    },
    "papermill": {
     "duration": 0.019414,
     "end_time": "2022-11-10T16:08:59.961011",
     "exception": false,
     "start_time": "2022-11-10T16:08:59.941597",
     "status": "completed"
    },
    "tags": []
   },
   "outputs": [
    {
     "data": {
      "text/plain": [
       "((300000, 24), (200000, 23))"
      ]
     },
     "execution_count": 3,
     "metadata": {},
     "output_type": "execute_result"
    }
   ],
   "source": [
    "train.shape, test.shape"
   ]
  },
  {
   "cell_type": "code",
   "execution_count": 4,
   "id": "58bae089",
   "metadata": {
    "execution": {
     "iopub.execute_input": "2022-11-10T16:08:59.977177Z",
     "iopub.status.busy": "2022-11-10T16:08:59.976227Z",
     "iopub.status.idle": "2022-11-10T16:09:08.583113Z",
     "shell.execute_reply": "2022-11-10T16:09:08.581674Z"
    },
    "papermill": {
     "duration": 8.618141,
     "end_time": "2022-11-10T16:09:08.586230",
     "exception": false,
     "start_time": "2022-11-10T16:08:59.968089",
     "status": "completed"
    },
    "tags": []
   },
   "outputs": [
    {
     "data": {
      "text/html": [
       "<div>\n",
       "<style scoped>\n",
       "    .dataframe tbody tr th:only-of-type {\n",
       "        vertical-align: middle;\n",
       "    }\n",
       "\n",
       "    .dataframe tbody tr th {\n",
       "        vertical-align: top;\n",
       "    }\n",
       "\n",
       "    .dataframe thead th {\n",
       "        text-align: right;\n",
       "    }\n",
       "</style>\n",
       "<table border=\"1\" class=\"dataframe\">\n",
       "  <thead>\n",
       "    <tr style=\"text-align: right;\">\n",
       "      <th>id</th>\n",
       "      <th>0</th>\n",
       "      <th>1</th>\n",
       "      <th>2</th>\n",
       "      <th>3</th>\n",
       "      <th>4</th>\n",
       "      <th>5</th>\n",
       "      <th>6</th>\n",
       "      <th>7</th>\n",
       "      <th>8</th>\n",
       "      <th>9</th>\n",
       "      <th>...</th>\n",
       "      <th>299990</th>\n",
       "      <th>299991</th>\n",
       "      <th>299992</th>\n",
       "      <th>299993</th>\n",
       "      <th>299994</th>\n",
       "      <th>299995</th>\n",
       "      <th>299996</th>\n",
       "      <th>299997</th>\n",
       "      <th>299998</th>\n",
       "      <th>299999</th>\n",
       "    </tr>\n",
       "  </thead>\n",
       "  <tbody>\n",
       "    <tr>\n",
       "      <th>bin_0</th>\n",
       "      <td>0</td>\n",
       "      <td>0</td>\n",
       "      <td>0</td>\n",
       "      <td>0</td>\n",
       "      <td>0</td>\n",
       "      <td>0</td>\n",
       "      <td>0</td>\n",
       "      <td>1</td>\n",
       "      <td>1</td>\n",
       "      <td>0</td>\n",
       "      <td>...</td>\n",
       "      <td>0</td>\n",
       "      <td>0</td>\n",
       "      <td>0</td>\n",
       "      <td>0</td>\n",
       "      <td>0</td>\n",
       "      <td>0</td>\n",
       "      <td>0</td>\n",
       "      <td>0</td>\n",
       "      <td>0</td>\n",
       "      <td>0</td>\n",
       "    </tr>\n",
       "    <tr>\n",
       "      <th>bin_1</th>\n",
       "      <td>0</td>\n",
       "      <td>1</td>\n",
       "      <td>0</td>\n",
       "      <td>1</td>\n",
       "      <td>0</td>\n",
       "      <td>1</td>\n",
       "      <td>1</td>\n",
       "      <td>0</td>\n",
       "      <td>0</td>\n",
       "      <td>0</td>\n",
       "      <td>...</td>\n",
       "      <td>1</td>\n",
       "      <td>0</td>\n",
       "      <td>0</td>\n",
       "      <td>0</td>\n",
       "      <td>0</td>\n",
       "      <td>0</td>\n",
       "      <td>0</td>\n",
       "      <td>0</td>\n",
       "      <td>1</td>\n",
       "      <td>0</td>\n",
       "    </tr>\n",
       "    <tr>\n",
       "      <th>bin_2</th>\n",
       "      <td>0</td>\n",
       "      <td>0</td>\n",
       "      <td>0</td>\n",
       "      <td>0</td>\n",
       "      <td>0</td>\n",
       "      <td>1</td>\n",
       "      <td>1</td>\n",
       "      <td>1</td>\n",
       "      <td>1</td>\n",
       "      <td>0</td>\n",
       "      <td>...</td>\n",
       "      <td>0</td>\n",
       "      <td>1</td>\n",
       "      <td>0</td>\n",
       "      <td>0</td>\n",
       "      <td>0</td>\n",
       "      <td>0</td>\n",
       "      <td>0</td>\n",
       "      <td>0</td>\n",
       "      <td>0</td>\n",
       "      <td>0</td>\n",
       "    </tr>\n",
       "    <tr>\n",
       "      <th>bin_3</th>\n",
       "      <td>T</td>\n",
       "      <td>T</td>\n",
       "      <td>F</td>\n",
       "      <td>F</td>\n",
       "      <td>F</td>\n",
       "      <td>T</td>\n",
       "      <td>T</td>\n",
       "      <td>T</td>\n",
       "      <td>T</td>\n",
       "      <td>F</td>\n",
       "      <td>...</td>\n",
       "      <td>T</td>\n",
       "      <td>T</td>\n",
       "      <td>F</td>\n",
       "      <td>T</td>\n",
       "      <td>T</td>\n",
       "      <td>T</td>\n",
       "      <td>F</td>\n",
       "      <td>F</td>\n",
       "      <td>F</td>\n",
       "      <td>F</td>\n",
       "    </tr>\n",
       "    <tr>\n",
       "      <th>bin_4</th>\n",
       "      <td>Y</td>\n",
       "      <td>Y</td>\n",
       "      <td>Y</td>\n",
       "      <td>Y</td>\n",
       "      <td>N</td>\n",
       "      <td>N</td>\n",
       "      <td>N</td>\n",
       "      <td>Y</td>\n",
       "      <td>Y</td>\n",
       "      <td>Y</td>\n",
       "      <td>...</td>\n",
       "      <td>Y</td>\n",
       "      <td>N</td>\n",
       "      <td>Y</td>\n",
       "      <td>Y</td>\n",
       "      <td>Y</td>\n",
       "      <td>N</td>\n",
       "      <td>Y</td>\n",
       "      <td>Y</td>\n",
       "      <td>Y</td>\n",
       "      <td>Y</td>\n",
       "    </tr>\n",
       "    <tr>\n",
       "      <th>nom_0</th>\n",
       "      <td>Green</td>\n",
       "      <td>Green</td>\n",
       "      <td>Blue</td>\n",
       "      <td>Red</td>\n",
       "      <td>Red</td>\n",
       "      <td>Blue</td>\n",
       "      <td>Green</td>\n",
       "      <td>Red</td>\n",
       "      <td>Blue</td>\n",
       "      <td>Red</td>\n",
       "      <td>...</td>\n",
       "      <td>Red</td>\n",
       "      <td>Red</td>\n",
       "      <td>Red</td>\n",
       "      <td>Green</td>\n",
       "      <td>Green</td>\n",
       "      <td>Red</td>\n",
       "      <td>Green</td>\n",
       "      <td>Blue</td>\n",
       "      <td>Green</td>\n",
       "      <td>Blue</td>\n",
       "    </tr>\n",
       "    <tr>\n",
       "      <th>nom_1</th>\n",
       "      <td>Triangle</td>\n",
       "      <td>Trapezoid</td>\n",
       "      <td>Trapezoid</td>\n",
       "      <td>Trapezoid</td>\n",
       "      <td>Trapezoid</td>\n",
       "      <td>Polygon</td>\n",
       "      <td>Trapezoid</td>\n",
       "      <td>Triangle</td>\n",
       "      <td>Square</td>\n",
       "      <td>Trapezoid</td>\n",
       "      <td>...</td>\n",
       "      <td>Square</td>\n",
       "      <td>Trapezoid</td>\n",
       "      <td>Trapezoid</td>\n",
       "      <td>Star</td>\n",
       "      <td>Trapezoid</td>\n",
       "      <td>Trapezoid</td>\n",
       "      <td>Trapezoid</td>\n",
       "      <td>Star</td>\n",
       "      <td>Square</td>\n",
       "      <td>Trapezoid</td>\n",
       "    </tr>\n",
       "    <tr>\n",
       "      <th>nom_2</th>\n",
       "      <td>Snake</td>\n",
       "      <td>Hamster</td>\n",
       "      <td>Lion</td>\n",
       "      <td>Snake</td>\n",
       "      <td>Lion</td>\n",
       "      <td>Lion</td>\n",
       "      <td>Cat</td>\n",
       "      <td>Dog</td>\n",
       "      <td>Hamster</td>\n",
       "      <td>Lion</td>\n",
       "      <td>...</td>\n",
       "      <td>Axolotl</td>\n",
       "      <td>Cat</td>\n",
       "      <td>Cat</td>\n",
       "      <td>Dog</td>\n",
       "      <td>Lion</td>\n",
       "      <td>Snake</td>\n",
       "      <td>Lion</td>\n",
       "      <td>Axolotl</td>\n",
       "      <td>Axolotl</td>\n",
       "      <td>Dog</td>\n",
       "    </tr>\n",
       "    <tr>\n",
       "      <th>nom_3</th>\n",
       "      <td>Finland</td>\n",
       "      <td>Russia</td>\n",
       "      <td>Russia</td>\n",
       "      <td>Canada</td>\n",
       "      <td>Canada</td>\n",
       "      <td>Costa Rica</td>\n",
       "      <td>China</td>\n",
       "      <td>Russia</td>\n",
       "      <td>Canada</td>\n",
       "      <td>China</td>\n",
       "      <td>...</td>\n",
       "      <td>Russia</td>\n",
       "      <td>Russia</td>\n",
       "      <td>Finland</td>\n",
       "      <td>Russia</td>\n",
       "      <td>Finland</td>\n",
       "      <td>India</td>\n",
       "      <td>Russia</td>\n",
       "      <td>Russia</td>\n",
       "      <td>Costa Rica</td>\n",
       "      <td>Russia</td>\n",
       "    </tr>\n",
       "    <tr>\n",
       "      <th>nom_4</th>\n",
       "      <td>Bassoon</td>\n",
       "      <td>Piano</td>\n",
       "      <td>Theremin</td>\n",
       "      <td>Oboe</td>\n",
       "      <td>Oboe</td>\n",
       "      <td>Oboe</td>\n",
       "      <td>Piano</td>\n",
       "      <td>Oboe</td>\n",
       "      <td>Bassoon</td>\n",
       "      <td>Piano</td>\n",
       "      <td>...</td>\n",
       "      <td>Piano</td>\n",
       "      <td>Piano</td>\n",
       "      <td>Piano</td>\n",
       "      <td>Bassoon</td>\n",
       "      <td>Piano</td>\n",
       "      <td>Oboe</td>\n",
       "      <td>Piano</td>\n",
       "      <td>Oboe</td>\n",
       "      <td>Piano</td>\n",
       "      <td>Bassoon</td>\n",
       "    </tr>\n",
       "    <tr>\n",
       "      <th>nom_5</th>\n",
       "      <td>50f116bcf</td>\n",
       "      <td>b3b4d25d0</td>\n",
       "      <td>3263bdce5</td>\n",
       "      <td>f12246592</td>\n",
       "      <td>5b0f5acd5</td>\n",
       "      <td>46cab09da</td>\n",
       "      <td>be5592604</td>\n",
       "      <td>72f8028dc</td>\n",
       "      <td>4604905e7</td>\n",
       "      <td>ad95dc0ee</td>\n",
       "      <td>...</td>\n",
       "      <td>85159d577</td>\n",
       "      <td>b0faff28f</td>\n",
       "      <td>ef38568df</td>\n",
       "      <td>de04b8750</td>\n",
       "      <td>91ea3e4dd</td>\n",
       "      <td>35f65a9bf</td>\n",
       "      <td>472efea17</td>\n",
       "      <td>0dee9b39a</td>\n",
       "      <td>e1558b071</td>\n",
       "      <td>416a8f3ab</td>\n",
       "    </tr>\n",
       "    <tr>\n",
       "      <th>nom_6</th>\n",
       "      <td>3ac1b8814</td>\n",
       "      <td>fbcb50fc1</td>\n",
       "      <td>0922e3cb8</td>\n",
       "      <td>50d7ad46a</td>\n",
       "      <td>1fe17a1fd</td>\n",
       "      <td>29a854620</td>\n",
       "      <td>3393a0f78</td>\n",
       "      <td>55eed5058</td>\n",
       "      <td>3e44d44eb</td>\n",
       "      <td>8ed6221ae</td>\n",
       "      <td>...</td>\n",
       "      <td>e16557b2b</td>\n",
       "      <td>43b8c397b</td>\n",
       "      <td>e63f69ba1</td>\n",
       "      <td>21e2c2d57</td>\n",
       "      <td>4cb66e369</td>\n",
       "      <td>788ba7aea</td>\n",
       "      <td>3b9693870</td>\n",
       "      <td>6046454de</td>\n",
       "      <td>0000ee65f</td>\n",
       "      <td>8d1b72979</td>\n",
       "    </tr>\n",
       "    <tr>\n",
       "      <th>nom_7</th>\n",
       "      <td>68f6ad3e9</td>\n",
       "      <td>3b6dd5612</td>\n",
       "      <td>a6a36f527</td>\n",
       "      <td>ec69236eb</td>\n",
       "      <td>04ddac2be</td>\n",
       "      <td>ff5b35098</td>\n",
       "      <td>c6587685d</td>\n",
       "      <td>2dd9daf45</td>\n",
       "      <td>3f0057c9b</td>\n",
       "      <td>4fbfe4a84</td>\n",
       "      <td>...</td>\n",
       "      <td>ff8d529ff</td>\n",
       "      <td>a58b84c81</td>\n",
       "      <td>e44a8642a</td>\n",
       "      <td>c1cbba46b</td>\n",
       "      <td>c8ae4ea14</td>\n",
       "      <td>86a8e4ca0</td>\n",
       "      <td>c4455f4a8</td>\n",
       "      <td>ba9901303</td>\n",
       "      <td>c8ae4ea14</td>\n",
       "      <td>c073efb40</td>\n",
       "    </tr>\n",
       "    <tr>\n",
       "      <th>nom_8</th>\n",
       "      <td>c389000ab</td>\n",
       "      <td>4cd920251</td>\n",
       "      <td>de9c9f684</td>\n",
       "      <td>4ade6ab69</td>\n",
       "      <td>cb43ab175</td>\n",
       "      <td>b7e6f8e6f</td>\n",
       "      <td>06f5ae149</td>\n",
       "      <td>98addc2c9</td>\n",
       "      <td>a2d110837</td>\n",
       "      <td>2c15d0173</td>\n",
       "      <td>...</td>\n",
       "      <td>c47c38880</td>\n",
       "      <td>12f905248</td>\n",
       "      <td>76bee6d06</td>\n",
       "      <td>120d118ae</td>\n",
       "      <td>fcf8c2866</td>\n",
       "      <td>7508f4ef1</td>\n",
       "      <td>397dd0274</td>\n",
       "      <td>5d7806f53</td>\n",
       "      <td>1f820c7ce</td>\n",
       "      <td>c13d3ebdf</td>\n",
       "    </tr>\n",
       "    <tr>\n",
       "      <th>nom_9</th>\n",
       "      <td>2f4cb3d51</td>\n",
       "      <td>f83c56c21</td>\n",
       "      <td>ae6800dd0</td>\n",
       "      <td>8270f0d71</td>\n",
       "      <td>b164b72a7</td>\n",
       "      <td>51e27c16d</td>\n",
       "      <td>7e3d79a0d</td>\n",
       "      <td>feb72ecc2</td>\n",
       "      <td>34a7273bf</td>\n",
       "      <td>0ece7a511</td>\n",
       "      <td>...</td>\n",
       "      <td>1814f6020</td>\n",
       "      <td>eb967fa5c</td>\n",
       "      <td>f95ec8f50</td>\n",
       "      <td>79966aa96</td>\n",
       "      <td>13e7f67a6</td>\n",
       "      <td>e027decef</td>\n",
       "      <td>80f1411c8</td>\n",
       "      <td>314dcc15b</td>\n",
       "      <td>ab0ce192b</td>\n",
       "      <td>ad1af2b45</td>\n",
       "    </tr>\n",
       "    <tr>\n",
       "      <th>ord_0</th>\n",
       "      <td>2</td>\n",
       "      <td>1</td>\n",
       "      <td>1</td>\n",
       "      <td>1</td>\n",
       "      <td>1</td>\n",
       "      <td>1</td>\n",
       "      <td>2</td>\n",
       "      <td>1</td>\n",
       "      <td>2</td>\n",
       "      <td>1</td>\n",
       "      <td>...</td>\n",
       "      <td>1</td>\n",
       "      <td>2</td>\n",
       "      <td>1</td>\n",
       "      <td>3</td>\n",
       "      <td>1</td>\n",
       "      <td>1</td>\n",
       "      <td>2</td>\n",
       "      <td>3</td>\n",
       "      <td>1</td>\n",
       "      <td>3</td>\n",
       "    </tr>\n",
       "    <tr>\n",
       "      <th>ord_1</th>\n",
       "      <td>Grandmaster</td>\n",
       "      <td>Grandmaster</td>\n",
       "      <td>Expert</td>\n",
       "      <td>Grandmaster</td>\n",
       "      <td>Grandmaster</td>\n",
       "      <td>Novice</td>\n",
       "      <td>Grandmaster</td>\n",
       "      <td>Novice</td>\n",
       "      <td>Novice</td>\n",
       "      <td>Expert</td>\n",
       "      <td>...</td>\n",
       "      <td>Master</td>\n",
       "      <td>Contributor</td>\n",
       "      <td>Master</td>\n",
       "      <td>Grandmaster</td>\n",
       "      <td>Novice</td>\n",
       "      <td>Contributor</td>\n",
       "      <td>Novice</td>\n",
       "      <td>Novice</td>\n",
       "      <td>Master</td>\n",
       "      <td>Contributor</td>\n",
       "    </tr>\n",
       "    <tr>\n",
       "      <th>ord_2</th>\n",
       "      <td>Cold</td>\n",
       "      <td>Hot</td>\n",
       "      <td>Lava Hot</td>\n",
       "      <td>Boiling Hot</td>\n",
       "      <td>Freezing</td>\n",
       "      <td>Freezing</td>\n",
       "      <td>Lava Hot</td>\n",
       "      <td>Lava Hot</td>\n",
       "      <td>Boiling Hot</td>\n",
       "      <td>Freezing</td>\n",
       "      <td>...</td>\n",
       "      <td>Cold</td>\n",
       "      <td>Freezing</td>\n",
       "      <td>Freezing</td>\n",
       "      <td>Lava Hot</td>\n",
       "      <td>Boiling Hot</td>\n",
       "      <td>Freezing</td>\n",
       "      <td>Freezing</td>\n",
       "      <td>Boiling Hot</td>\n",
       "      <td>Boiling Hot</td>\n",
       "      <td>Freezing</td>\n",
       "    </tr>\n",
       "    <tr>\n",
       "      <th>ord_3</th>\n",
       "      <td>h</td>\n",
       "      <td>a</td>\n",
       "      <td>h</td>\n",
       "      <td>i</td>\n",
       "      <td>a</td>\n",
       "      <td>j</td>\n",
       "      <td>g</td>\n",
       "      <td>j</td>\n",
       "      <td>e</td>\n",
       "      <td>h</td>\n",
       "      <td>...</td>\n",
       "      <td>g</td>\n",
       "      <td>i</td>\n",
       "      <td>j</td>\n",
       "      <td>h</td>\n",
       "      <td>g</td>\n",
       "      <td>k</td>\n",
       "      <td>h</td>\n",
       "      <td>o</td>\n",
       "      <td>h</td>\n",
       "      <td>i</td>\n",
       "    </tr>\n",
       "    <tr>\n",
       "      <th>ord_4</th>\n",
       "      <td>D</td>\n",
       "      <td>A</td>\n",
       "      <td>R</td>\n",
       "      <td>D</td>\n",
       "      <td>R</td>\n",
       "      <td>E</td>\n",
       "      <td>P</td>\n",
       "      <td>K</td>\n",
       "      <td>V</td>\n",
       "      <td>Q</td>\n",
       "      <td>...</td>\n",
       "      <td>V</td>\n",
       "      <td>Q</td>\n",
       "      <td>O</td>\n",
       "      <td>R</td>\n",
       "      <td>U</td>\n",
       "      <td>K</td>\n",
       "      <td>W</td>\n",
       "      <td>A</td>\n",
       "      <td>W</td>\n",
       "      <td>R</td>\n",
       "    </tr>\n",
       "    <tr>\n",
       "      <th>ord_5</th>\n",
       "      <td>kr</td>\n",
       "      <td>bF</td>\n",
       "      <td>Jc</td>\n",
       "      <td>kW</td>\n",
       "      <td>qP</td>\n",
       "      <td>PZ</td>\n",
       "      <td>wy</td>\n",
       "      <td>Ed</td>\n",
       "      <td>qo</td>\n",
       "      <td>CZ</td>\n",
       "      <td>...</td>\n",
       "      <td>QM</td>\n",
       "      <td>qX</td>\n",
       "      <td>CL</td>\n",
       "      <td>tP</td>\n",
       "      <td>Wv</td>\n",
       "      <td>dh</td>\n",
       "      <td>MO</td>\n",
       "      <td>Bn</td>\n",
       "      <td>uJ</td>\n",
       "      <td>tP</td>\n",
       "    </tr>\n",
       "    <tr>\n",
       "      <th>day</th>\n",
       "      <td>2</td>\n",
       "      <td>7</td>\n",
       "      <td>7</td>\n",
       "      <td>2</td>\n",
       "      <td>7</td>\n",
       "      <td>2</td>\n",
       "      <td>5</td>\n",
       "      <td>4</td>\n",
       "      <td>3</td>\n",
       "      <td>3</td>\n",
       "      <td>...</td>\n",
       "      <td>2</td>\n",
       "      <td>2</td>\n",
       "      <td>2</td>\n",
       "      <td>3</td>\n",
       "      <td>3</td>\n",
       "      <td>3</td>\n",
       "      <td>3</td>\n",
       "      <td>7</td>\n",
       "      <td>3</td>\n",
       "      <td>1</td>\n",
       "    </tr>\n",
       "    <tr>\n",
       "      <th>month</th>\n",
       "      <td>2</td>\n",
       "      <td>8</td>\n",
       "      <td>2</td>\n",
       "      <td>1</td>\n",
       "      <td>8</td>\n",
       "      <td>2</td>\n",
       "      <td>4</td>\n",
       "      <td>2</td>\n",
       "      <td>4</td>\n",
       "      <td>2</td>\n",
       "      <td>...</td>\n",
       "      <td>4</td>\n",
       "      <td>5</td>\n",
       "      <td>4</td>\n",
       "      <td>8</td>\n",
       "      <td>7</td>\n",
       "      <td>8</td>\n",
       "      <td>2</td>\n",
       "      <td>9</td>\n",
       "      <td>8</td>\n",
       "      <td>3</td>\n",
       "    </tr>\n",
       "    <tr>\n",
       "      <th>target</th>\n",
       "      <td>0</td>\n",
       "      <td>0</td>\n",
       "      <td>0</td>\n",
       "      <td>1</td>\n",
       "      <td>0</td>\n",
       "      <td>0</td>\n",
       "      <td>0</td>\n",
       "      <td>0</td>\n",
       "      <td>0</td>\n",
       "      <td>0</td>\n",
       "      <td>...</td>\n",
       "      <td>0</td>\n",
       "      <td>0</td>\n",
       "      <td>0</td>\n",
       "      <td>1</td>\n",
       "      <td>0</td>\n",
       "      <td>0</td>\n",
       "      <td>0</td>\n",
       "      <td>1</td>\n",
       "      <td>1</td>\n",
       "      <td>0</td>\n",
       "    </tr>\n",
       "  </tbody>\n",
       "</table>\n",
       "<p>24 rows × 300000 columns</p>\n",
       "</div>"
      ],
      "text/plain": [
       "id           0            1          2            3            4       \\\n",
       "bin_0             0            0          0            0            0   \n",
       "bin_1             0            1          0            1            0   \n",
       "bin_2             0            0          0            0            0   \n",
       "bin_3             T            T          F            F            F   \n",
       "bin_4             Y            Y          Y            Y            N   \n",
       "nom_0         Green        Green       Blue          Red          Red   \n",
       "nom_1      Triangle    Trapezoid  Trapezoid    Trapezoid    Trapezoid   \n",
       "nom_2         Snake      Hamster       Lion        Snake         Lion   \n",
       "nom_3       Finland       Russia     Russia       Canada       Canada   \n",
       "nom_4       Bassoon        Piano   Theremin         Oboe         Oboe   \n",
       "nom_5     50f116bcf    b3b4d25d0  3263bdce5    f12246592    5b0f5acd5   \n",
       "nom_6     3ac1b8814    fbcb50fc1  0922e3cb8    50d7ad46a    1fe17a1fd   \n",
       "nom_7     68f6ad3e9    3b6dd5612  a6a36f527    ec69236eb    04ddac2be   \n",
       "nom_8     c389000ab    4cd920251  de9c9f684    4ade6ab69    cb43ab175   \n",
       "nom_9     2f4cb3d51    f83c56c21  ae6800dd0    8270f0d71    b164b72a7   \n",
       "ord_0             2            1          1            1            1   \n",
       "ord_1   Grandmaster  Grandmaster     Expert  Grandmaster  Grandmaster   \n",
       "ord_2          Cold          Hot   Lava Hot  Boiling Hot     Freezing   \n",
       "ord_3             h            a          h            i            a   \n",
       "ord_4             D            A          R            D            R   \n",
       "ord_5            kr           bF         Jc           kW           qP   \n",
       "day               2            7          7            2            7   \n",
       "month             2            8          2            1            8   \n",
       "target            0            0          0            1            0   \n",
       "\n",
       "id          5            6          7            8          9       ...  \\\n",
       "bin_0            0            0          1            1          0  ...   \n",
       "bin_1            1            1          0            0          0  ...   \n",
       "bin_2            1            1          1            1          0  ...   \n",
       "bin_3            T            T          T            T          F  ...   \n",
       "bin_4            N            N          Y            Y          Y  ...   \n",
       "nom_0         Blue        Green        Red         Blue        Red  ...   \n",
       "nom_1      Polygon    Trapezoid   Triangle       Square  Trapezoid  ...   \n",
       "nom_2         Lion          Cat        Dog      Hamster       Lion  ...   \n",
       "nom_3   Costa Rica        China     Russia       Canada      China  ...   \n",
       "nom_4         Oboe        Piano       Oboe      Bassoon      Piano  ...   \n",
       "nom_5    46cab09da    be5592604  72f8028dc    4604905e7  ad95dc0ee  ...   \n",
       "nom_6    29a854620    3393a0f78  55eed5058    3e44d44eb  8ed6221ae  ...   \n",
       "nom_7    ff5b35098    c6587685d  2dd9daf45    3f0057c9b  4fbfe4a84  ...   \n",
       "nom_8    b7e6f8e6f    06f5ae149  98addc2c9    a2d110837  2c15d0173  ...   \n",
       "nom_9    51e27c16d    7e3d79a0d  feb72ecc2    34a7273bf  0ece7a511  ...   \n",
       "ord_0            1            2          1            2          1  ...   \n",
       "ord_1       Novice  Grandmaster     Novice       Novice     Expert  ...   \n",
       "ord_2     Freezing     Lava Hot   Lava Hot  Boiling Hot   Freezing  ...   \n",
       "ord_3            j            g          j            e          h  ...   \n",
       "ord_4            E            P          K            V          Q  ...   \n",
       "ord_5           PZ           wy         Ed           qo         CZ  ...   \n",
       "day              2            5          4            3          3  ...   \n",
       "month            2            4          2            4          2  ...   \n",
       "target           0            0          0            0          0  ...   \n",
       "\n",
       "id         299990       299991     299992       299993       299994  \\\n",
       "bin_0           0            0          0            0            0   \n",
       "bin_1           1            0          0            0            0   \n",
       "bin_2           0            1          0            0            0   \n",
       "bin_3           T            T          F            T            T   \n",
       "bin_4           Y            N          Y            Y            Y   \n",
       "nom_0         Red          Red        Red        Green        Green   \n",
       "nom_1      Square    Trapezoid  Trapezoid         Star    Trapezoid   \n",
       "nom_2     Axolotl          Cat        Cat          Dog         Lion   \n",
       "nom_3      Russia       Russia    Finland       Russia      Finland   \n",
       "nom_4       Piano        Piano      Piano      Bassoon        Piano   \n",
       "nom_5   85159d577    b0faff28f  ef38568df    de04b8750    91ea3e4dd   \n",
       "nom_6   e16557b2b    43b8c397b  e63f69ba1    21e2c2d57    4cb66e369   \n",
       "nom_7   ff8d529ff    a58b84c81  e44a8642a    c1cbba46b    c8ae4ea14   \n",
       "nom_8   c47c38880    12f905248  76bee6d06    120d118ae    fcf8c2866   \n",
       "nom_9   1814f6020    eb967fa5c  f95ec8f50    79966aa96    13e7f67a6   \n",
       "ord_0           1            2          1            3            1   \n",
       "ord_1      Master  Contributor     Master  Grandmaster       Novice   \n",
       "ord_2        Cold     Freezing   Freezing     Lava Hot  Boiling Hot   \n",
       "ord_3           g            i          j            h            g   \n",
       "ord_4           V            Q          O            R            U   \n",
       "ord_5          QM           qX         CL           tP           Wv   \n",
       "day             2            2          2            3            3   \n",
       "month           4            5          4            8            7   \n",
       "target          0            0          0            1            0   \n",
       "\n",
       "id           299995     299996       299997       299998       299999  \n",
       "bin_0             0          0            0            0            0  \n",
       "bin_1             0          0            0            1            0  \n",
       "bin_2             0          0            0            0            0  \n",
       "bin_3             T          F            F            F            F  \n",
       "bin_4             N          Y            Y            Y            Y  \n",
       "nom_0           Red      Green         Blue        Green         Blue  \n",
       "nom_1     Trapezoid  Trapezoid         Star       Square    Trapezoid  \n",
       "nom_2         Snake       Lion      Axolotl      Axolotl          Dog  \n",
       "nom_3         India     Russia       Russia   Costa Rica       Russia  \n",
       "nom_4          Oboe      Piano         Oboe        Piano      Bassoon  \n",
       "nom_5     35f65a9bf  472efea17    0dee9b39a    e1558b071    416a8f3ab  \n",
       "nom_6     788ba7aea  3b9693870    6046454de    0000ee65f    8d1b72979  \n",
       "nom_7     86a8e4ca0  c4455f4a8    ba9901303    c8ae4ea14    c073efb40  \n",
       "nom_8     7508f4ef1  397dd0274    5d7806f53    1f820c7ce    c13d3ebdf  \n",
       "nom_9     e027decef  80f1411c8    314dcc15b    ab0ce192b    ad1af2b45  \n",
       "ord_0             1          2            3            1            3  \n",
       "ord_1   Contributor     Novice       Novice       Master  Contributor  \n",
       "ord_2      Freezing   Freezing  Boiling Hot  Boiling Hot     Freezing  \n",
       "ord_3             k          h            o            h            i  \n",
       "ord_4             K          W            A            W            R  \n",
       "ord_5            dh         MO           Bn           uJ           tP  \n",
       "day               3          3            7            3            1  \n",
       "month             8          2            9            8            3  \n",
       "target            0          0            1            1            0  \n",
       "\n",
       "[24 rows x 300000 columns]"
      ]
     },
     "execution_count": 4,
     "metadata": {},
     "output_type": "execute_result"
    }
   ],
   "source": [
    "train.T"
   ]
  },
  {
   "cell_type": "code",
   "execution_count": 5,
   "id": "6bb89281",
   "metadata": {
    "execution": {
     "iopub.execute_input": "2022-11-10T16:09:08.603954Z",
     "iopub.status.busy": "2022-11-10T16:09:08.603540Z",
     "iopub.status.idle": "2022-11-10T16:09:08.615061Z",
     "shell.execute_reply": "2022-11-10T16:09:08.613847Z"
    },
    "papermill": {
     "duration": 0.023107,
     "end_time": "2022-11-10T16:09:08.617350",
     "exception": false,
     "start_time": "2022-11-10T16:09:08.594243",
     "status": "completed"
    },
    "tags": []
   },
   "outputs": [
    {
     "data": {
      "text/html": [
       "<div>\n",
       "<style scoped>\n",
       "    .dataframe tbody tr th:only-of-type {\n",
       "        vertical-align: middle;\n",
       "    }\n",
       "\n",
       "    .dataframe tbody tr th {\n",
       "        vertical-align: top;\n",
       "    }\n",
       "\n",
       "    .dataframe thead th {\n",
       "        text-align: right;\n",
       "    }\n",
       "</style>\n",
       "<table border=\"1\" class=\"dataframe\">\n",
       "  <thead>\n",
       "    <tr style=\"text-align: right;\">\n",
       "      <th></th>\n",
       "      <th>target</th>\n",
       "    </tr>\n",
       "    <tr>\n",
       "      <th>id</th>\n",
       "      <th></th>\n",
       "    </tr>\n",
       "  </thead>\n",
       "  <tbody>\n",
       "    <tr>\n",
       "      <th>300000</th>\n",
       "      <td>0.5</td>\n",
       "    </tr>\n",
       "    <tr>\n",
       "      <th>300001</th>\n",
       "      <td>0.5</td>\n",
       "    </tr>\n",
       "    <tr>\n",
       "      <th>300002</th>\n",
       "      <td>0.5</td>\n",
       "    </tr>\n",
       "    <tr>\n",
       "      <th>300003</th>\n",
       "      <td>0.5</td>\n",
       "    </tr>\n",
       "    <tr>\n",
       "      <th>300004</th>\n",
       "      <td>0.5</td>\n",
       "    </tr>\n",
       "  </tbody>\n",
       "</table>\n",
       "</div>"
      ],
      "text/plain": [
       "        target\n",
       "id            \n",
       "300000     0.5\n",
       "300001     0.5\n",
       "300002     0.5\n",
       "300003     0.5\n",
       "300004     0.5"
      ]
     },
     "execution_count": 5,
     "metadata": {},
     "output_type": "execute_result"
    }
   ],
   "source": [
    "submission.head()"
   ]
  },
  {
   "cell_type": "code",
   "execution_count": null,
   "id": "02d62b79",
   "metadata": {
    "papermill": {
     "duration": 0.0079,
     "end_time": "2022-11-10T16:09:08.633437",
     "exception": false,
     "start_time": "2022-11-10T16:09:08.625537",
     "status": "completed"
    },
    "tags": []
   },
   "outputs": [],
   "source": []
  },
  {
   "cell_type": "code",
   "execution_count": 6,
   "id": "161e5235",
   "metadata": {
    "execution": {
     "iopub.execute_input": "2022-11-10T16:09:08.650844Z",
     "iopub.status.busy": "2022-11-10T16:09:08.650428Z",
     "iopub.status.idle": "2022-11-10T16:09:09.283155Z",
     "shell.execute_reply": "2022-11-10T16:09:09.282186Z"
    },
    "papermill": {
     "duration": 0.644325,
     "end_time": "2022-11-10T16:09:09.285634",
     "exception": false,
     "start_time": "2022-11-10T16:09:08.641309",
     "status": "completed"
    },
    "tags": []
   },
   "outputs": [
    {
     "name": "stdout",
     "output_type": "stream",
     "text": [
      "데이터셋 형상: (300000, 24)\n"
     ]
    },
    {
     "data": {
      "text/html": [
       "<div>\n",
       "<style scoped>\n",
       "    .dataframe tbody tr th:only-of-type {\n",
       "        vertical-align: middle;\n",
       "    }\n",
       "\n",
       "    .dataframe tbody tr th {\n",
       "        vertical-align: top;\n",
       "    }\n",
       "\n",
       "    .dataframe thead th {\n",
       "        text-align: right;\n",
       "    }\n",
       "</style>\n",
       "<table border=\"1\" class=\"dataframe\">\n",
       "  <thead>\n",
       "    <tr style=\"text-align: right;\">\n",
       "      <th></th>\n",
       "      <th>피처</th>\n",
       "      <th>데이터 타입</th>\n",
       "      <th>결측값 개수</th>\n",
       "      <th>고윳값 개수</th>\n",
       "      <th>첫 번째 값</th>\n",
       "      <th>두 번째 값</th>\n",
       "      <th>세 번째 값</th>\n",
       "    </tr>\n",
       "  </thead>\n",
       "  <tbody>\n",
       "    <tr>\n",
       "      <th>0</th>\n",
       "      <td>bin_0</td>\n",
       "      <td>int64</td>\n",
       "      <td>0</td>\n",
       "      <td>2</td>\n",
       "      <td>0</td>\n",
       "      <td>0</td>\n",
       "      <td>0</td>\n",
       "    </tr>\n",
       "    <tr>\n",
       "      <th>1</th>\n",
       "      <td>bin_1</td>\n",
       "      <td>int64</td>\n",
       "      <td>0</td>\n",
       "      <td>2</td>\n",
       "      <td>0</td>\n",
       "      <td>1</td>\n",
       "      <td>0</td>\n",
       "    </tr>\n",
       "    <tr>\n",
       "      <th>2</th>\n",
       "      <td>bin_2</td>\n",
       "      <td>int64</td>\n",
       "      <td>0</td>\n",
       "      <td>2</td>\n",
       "      <td>0</td>\n",
       "      <td>0</td>\n",
       "      <td>0</td>\n",
       "    </tr>\n",
       "    <tr>\n",
       "      <th>3</th>\n",
       "      <td>bin_3</td>\n",
       "      <td>object</td>\n",
       "      <td>0</td>\n",
       "      <td>2</td>\n",
       "      <td>T</td>\n",
       "      <td>T</td>\n",
       "      <td>F</td>\n",
       "    </tr>\n",
       "    <tr>\n",
       "      <th>4</th>\n",
       "      <td>bin_4</td>\n",
       "      <td>object</td>\n",
       "      <td>0</td>\n",
       "      <td>2</td>\n",
       "      <td>Y</td>\n",
       "      <td>Y</td>\n",
       "      <td>Y</td>\n",
       "    </tr>\n",
       "    <tr>\n",
       "      <th>5</th>\n",
       "      <td>nom_0</td>\n",
       "      <td>object</td>\n",
       "      <td>0</td>\n",
       "      <td>3</td>\n",
       "      <td>Green</td>\n",
       "      <td>Green</td>\n",
       "      <td>Blue</td>\n",
       "    </tr>\n",
       "    <tr>\n",
       "      <th>6</th>\n",
       "      <td>nom_1</td>\n",
       "      <td>object</td>\n",
       "      <td>0</td>\n",
       "      <td>6</td>\n",
       "      <td>Triangle</td>\n",
       "      <td>Trapezoid</td>\n",
       "      <td>Trapezoid</td>\n",
       "    </tr>\n",
       "    <tr>\n",
       "      <th>7</th>\n",
       "      <td>nom_2</td>\n",
       "      <td>object</td>\n",
       "      <td>0</td>\n",
       "      <td>6</td>\n",
       "      <td>Snake</td>\n",
       "      <td>Hamster</td>\n",
       "      <td>Lion</td>\n",
       "    </tr>\n",
       "    <tr>\n",
       "      <th>8</th>\n",
       "      <td>nom_3</td>\n",
       "      <td>object</td>\n",
       "      <td>0</td>\n",
       "      <td>6</td>\n",
       "      <td>Finland</td>\n",
       "      <td>Russia</td>\n",
       "      <td>Russia</td>\n",
       "    </tr>\n",
       "    <tr>\n",
       "      <th>9</th>\n",
       "      <td>nom_4</td>\n",
       "      <td>object</td>\n",
       "      <td>0</td>\n",
       "      <td>4</td>\n",
       "      <td>Bassoon</td>\n",
       "      <td>Piano</td>\n",
       "      <td>Theremin</td>\n",
       "    </tr>\n",
       "    <tr>\n",
       "      <th>10</th>\n",
       "      <td>nom_5</td>\n",
       "      <td>object</td>\n",
       "      <td>0</td>\n",
       "      <td>222</td>\n",
       "      <td>50f116bcf</td>\n",
       "      <td>b3b4d25d0</td>\n",
       "      <td>3263bdce5</td>\n",
       "    </tr>\n",
       "    <tr>\n",
       "      <th>11</th>\n",
       "      <td>nom_6</td>\n",
       "      <td>object</td>\n",
       "      <td>0</td>\n",
       "      <td>522</td>\n",
       "      <td>3ac1b8814</td>\n",
       "      <td>fbcb50fc1</td>\n",
       "      <td>0922e3cb8</td>\n",
       "    </tr>\n",
       "    <tr>\n",
       "      <th>12</th>\n",
       "      <td>nom_7</td>\n",
       "      <td>object</td>\n",
       "      <td>0</td>\n",
       "      <td>1220</td>\n",
       "      <td>68f6ad3e9</td>\n",
       "      <td>3b6dd5612</td>\n",
       "      <td>a6a36f527</td>\n",
       "    </tr>\n",
       "    <tr>\n",
       "      <th>13</th>\n",
       "      <td>nom_8</td>\n",
       "      <td>object</td>\n",
       "      <td>0</td>\n",
       "      <td>2215</td>\n",
       "      <td>c389000ab</td>\n",
       "      <td>4cd920251</td>\n",
       "      <td>de9c9f684</td>\n",
       "    </tr>\n",
       "    <tr>\n",
       "      <th>14</th>\n",
       "      <td>nom_9</td>\n",
       "      <td>object</td>\n",
       "      <td>0</td>\n",
       "      <td>11981</td>\n",
       "      <td>2f4cb3d51</td>\n",
       "      <td>f83c56c21</td>\n",
       "      <td>ae6800dd0</td>\n",
       "    </tr>\n",
       "    <tr>\n",
       "      <th>15</th>\n",
       "      <td>ord_0</td>\n",
       "      <td>int64</td>\n",
       "      <td>0</td>\n",
       "      <td>3</td>\n",
       "      <td>2</td>\n",
       "      <td>1</td>\n",
       "      <td>1</td>\n",
       "    </tr>\n",
       "    <tr>\n",
       "      <th>16</th>\n",
       "      <td>ord_1</td>\n",
       "      <td>object</td>\n",
       "      <td>0</td>\n",
       "      <td>5</td>\n",
       "      <td>Grandmaster</td>\n",
       "      <td>Grandmaster</td>\n",
       "      <td>Expert</td>\n",
       "    </tr>\n",
       "    <tr>\n",
       "      <th>17</th>\n",
       "      <td>ord_2</td>\n",
       "      <td>object</td>\n",
       "      <td>0</td>\n",
       "      <td>6</td>\n",
       "      <td>Cold</td>\n",
       "      <td>Hot</td>\n",
       "      <td>Lava Hot</td>\n",
       "    </tr>\n",
       "    <tr>\n",
       "      <th>18</th>\n",
       "      <td>ord_3</td>\n",
       "      <td>object</td>\n",
       "      <td>0</td>\n",
       "      <td>15</td>\n",
       "      <td>h</td>\n",
       "      <td>a</td>\n",
       "      <td>h</td>\n",
       "    </tr>\n",
       "    <tr>\n",
       "      <th>19</th>\n",
       "      <td>ord_4</td>\n",
       "      <td>object</td>\n",
       "      <td>0</td>\n",
       "      <td>26</td>\n",
       "      <td>D</td>\n",
       "      <td>A</td>\n",
       "      <td>R</td>\n",
       "    </tr>\n",
       "    <tr>\n",
       "      <th>20</th>\n",
       "      <td>ord_5</td>\n",
       "      <td>object</td>\n",
       "      <td>0</td>\n",
       "      <td>192</td>\n",
       "      <td>kr</td>\n",
       "      <td>bF</td>\n",
       "      <td>Jc</td>\n",
       "    </tr>\n",
       "    <tr>\n",
       "      <th>21</th>\n",
       "      <td>day</td>\n",
       "      <td>int64</td>\n",
       "      <td>0</td>\n",
       "      <td>7</td>\n",
       "      <td>2</td>\n",
       "      <td>7</td>\n",
       "      <td>7</td>\n",
       "    </tr>\n",
       "    <tr>\n",
       "      <th>22</th>\n",
       "      <td>month</td>\n",
       "      <td>int64</td>\n",
       "      <td>0</td>\n",
       "      <td>12</td>\n",
       "      <td>2</td>\n",
       "      <td>8</td>\n",
       "      <td>2</td>\n",
       "    </tr>\n",
       "    <tr>\n",
       "      <th>23</th>\n",
       "      <td>target</td>\n",
       "      <td>int64</td>\n",
       "      <td>0</td>\n",
       "      <td>2</td>\n",
       "      <td>0</td>\n",
       "      <td>0</td>\n",
       "      <td>0</td>\n",
       "    </tr>\n",
       "  </tbody>\n",
       "</table>\n",
       "</div>"
      ],
      "text/plain": [
       "        피처  데이터 타입  결측값 개수  고윳값 개수       첫 번째 값       두 번째 값     세 번째 값\n",
       "0    bin_0   int64       0       2            0            0          0\n",
       "1    bin_1   int64       0       2            0            1          0\n",
       "2    bin_2   int64       0       2            0            0          0\n",
       "3    bin_3  object       0       2            T            T          F\n",
       "4    bin_4  object       0       2            Y            Y          Y\n",
       "5    nom_0  object       0       3        Green        Green       Blue\n",
       "6    nom_1  object       0       6     Triangle    Trapezoid  Trapezoid\n",
       "7    nom_2  object       0       6        Snake      Hamster       Lion\n",
       "8    nom_3  object       0       6      Finland       Russia     Russia\n",
       "9    nom_4  object       0       4      Bassoon        Piano   Theremin\n",
       "10   nom_5  object       0     222    50f116bcf    b3b4d25d0  3263bdce5\n",
       "11   nom_6  object       0     522    3ac1b8814    fbcb50fc1  0922e3cb8\n",
       "12   nom_7  object       0    1220    68f6ad3e9    3b6dd5612  a6a36f527\n",
       "13   nom_8  object       0    2215    c389000ab    4cd920251  de9c9f684\n",
       "14   nom_9  object       0   11981    2f4cb3d51    f83c56c21  ae6800dd0\n",
       "15   ord_0   int64       0       3            2            1          1\n",
       "16   ord_1  object       0       5  Grandmaster  Grandmaster     Expert\n",
       "17   ord_2  object       0       6         Cold          Hot   Lava Hot\n",
       "18   ord_3  object       0      15            h            a          h\n",
       "19   ord_4  object       0      26            D            A          R\n",
       "20   ord_5  object       0     192           kr           bF         Jc\n",
       "21     day   int64       0       7            2            7          7\n",
       "22   month   int64       0      12            2            8          2\n",
       "23  target   int64       0       2            0            0          0"
      ]
     },
     "execution_count": 6,
     "metadata": {},
     "output_type": "execute_result"
    }
   ],
   "source": [
    "def resumetable(df):\n",
    "    print(f'데이터셋 형상: {df.shape}')\n",
    "    summary = pd.DataFrame(df.dtypes, columns = ['데이터 타입'])\n",
    "    summary = summary.reset_index()\n",
    "    summary = summary.rename(columns={'index':'피처'})\n",
    "    summary['결측값 개수'] = df.isnull().sum().values\n",
    "    summary['고윳값 개수'] = df.nunique().values\n",
    "    summary['첫 번째 값'] = df.loc[0].values\n",
    "    summary['두 번째 값'] = df.loc[1].values\n",
    "    summary['세 번째 값'] = df.loc[2].values\n",
    "    return summary\n",
    "resumetable(train)"
   ]
  },
  {
   "cell_type": "code",
   "execution_count": 7,
   "id": "f0003339",
   "metadata": {
    "execution": {
     "iopub.execute_input": "2022-11-10T16:09:09.308310Z",
     "iopub.status.busy": "2022-11-10T16:09:09.307164Z",
     "iopub.status.idle": "2022-11-10T16:09:09.364875Z",
     "shell.execute_reply": "2022-11-10T16:09:09.363555Z"
    },
    "papermill": {
     "duration": 0.073026,
     "end_time": "2022-11-10T16:09:09.367831",
     "exception": false,
     "start_time": "2022-11-10T16:09:09.294805",
     "status": "completed"
    },
    "tags": []
   },
   "outputs": [
    {
     "name": "stdout",
     "output_type": "stream",
     "text": [
      "ord_0 고윳값: [2 1 3]\n",
      "ord_1 고윳값: ['Grandmaster' 'Expert' 'Novice' 'Contributor' 'Master']\n",
      "ord_2 고윳값: ['Cold' 'Hot' 'Lava Hot' 'Boiling Hot' 'Freezing' 'Warm']\n"
     ]
    }
   ],
   "source": [
    "for i in range(3):\n",
    "    feature = 'ord_' + str(i)\n",
    "    print(f'{feature} 고윳값: {train[feature].unique()}')"
   ]
  },
  {
   "cell_type": "code",
   "execution_count": 8,
   "id": "1388066f",
   "metadata": {
    "execution": {
     "iopub.execute_input": "2022-11-10T16:09:09.386738Z",
     "iopub.status.busy": "2022-11-10T16:09:09.386308Z",
     "iopub.status.idle": "2022-11-10T16:09:09.451604Z",
     "shell.execute_reply": "2022-11-10T16:09:09.450027Z"
    },
    "papermill": {
     "duration": 0.077584,
     "end_time": "2022-11-10T16:09:09.454042",
     "exception": false,
     "start_time": "2022-11-10T16:09:09.376458",
     "status": "completed"
    },
    "tags": []
   },
   "outputs": [
    {
     "name": "stdout",
     "output_type": "stream",
     "text": [
      "ord_3 고윳값: ['h' 'a' 'i' 'j' 'g' 'e' 'd' 'b' 'k' 'f' 'l' 'n' 'o' 'c' 'm']\n",
      "ord_4 고윳값: ['D' 'A' 'R' 'E' 'P' 'K' 'V' 'Q' 'Z' 'L' 'F' 'T' 'U' 'S' 'Y' 'B' 'H' 'J'\n",
      " 'N' 'G' 'W' 'I' 'O' 'C' 'X' 'M']\n",
      "ord_5 고윳값: ['kr' 'bF' 'Jc' 'kW' 'qP' 'PZ' 'wy' 'Ed' 'qo' 'CZ' 'qX' 'su' 'dP' 'aP'\n",
      " 'MV' 'oC' 'RL' 'fh' 'gJ' 'Hj' 'TR' 'CL' 'Sc' 'eQ' 'kC' 'qK' 'dh' 'gM'\n",
      " 'Jf' 'fO' 'Eg' 'KZ' 'Vx' 'Fo' 'sV' 'eb' 'YC' 'RG' 'Ye' 'qA' 'lL' 'Qh'\n",
      " 'Bd' 'be' 'hT' 'lF' 'nX' 'kK' 'av' 'uS' 'Jt' 'PA' 'Er' 'Qb' 'od' 'ut'\n",
      " 'Dx' 'Xi' 'on' 'Dc' 'sD' 'rZ' 'Uu' 'sn' 'yc' 'Gb' 'Kq' 'dQ' 'hp' 'kL'\n",
      " 'je' 'CU' 'Fd' 'PQ' 'Bn' 'ex' 'hh' 'ac' 'rp' 'dE' 'oG' 'oK' 'cp' 'mm'\n",
      " 'vK' 'ek' 'dO' 'XI' 'CM' 'Vf' 'aO' 'qv' 'jp' 'Zq' 'Qo' 'DN' 'TZ' 'ke'\n",
      " 'cG' 'tP' 'ud' 'tv' 'aM' 'xy' 'lx' 'To' 'uy' 'ZS' 'vy' 'ZR' 'AP' 'GJ'\n",
      " 'Wv' 'ri' 'qw' 'Xh' 'FI' 'nh' 'KR' 'dB' 'BE' 'Bb' 'mc' 'MC' 'tM' 'NV'\n",
      " 'ih' 'IK' 'Ob' 'RP' 'dN' 'us' 'dZ' 'yN' 'Nf' 'QM' 'jV' 'sY' 'wu' 'SB'\n",
      " 'UO' 'Mx' 'JX' 'Ry' 'Uk' 'uJ' 'LE' 'ps' 'kE' 'MO' 'kw' 'yY' 'zU' 'bJ'\n",
      " 'Kf' 'ck' 'mb' 'Os' 'Ps' 'Ml' 'Ai' 'Wc' 'GD' 'll' 'aF' 'iT' 'cA' 'WE'\n",
      " 'Gx' 'Nk' 'OR' 'Rm' 'BA' 'eG' 'cW' 'jS' 'DH' 'hL' 'Mf' 'Yb' 'Aj' 'oH'\n",
      " 'Zc' 'qJ' 'eg' 'xP' 'vq' 'Id' 'pa' 'ux' 'kU' 'Cl']\n"
     ]
    }
   ],
   "source": [
    "for i in range(3,6):\n",
    "    feature = 'ord_' + str(i)\n",
    "    print(f'{feature} 고윳값: {train[feature].unique()}')"
   ]
  },
  {
   "cell_type": "code",
   "execution_count": 9,
   "id": "a87f345f",
   "metadata": {
    "execution": {
     "iopub.execute_input": "2022-11-10T16:09:09.472952Z",
     "iopub.status.busy": "2022-11-10T16:09:09.472517Z",
     "iopub.status.idle": "2022-11-10T16:09:09.485777Z",
     "shell.execute_reply": "2022-11-10T16:09:09.484317Z"
    },
    "papermill": {
     "duration": 0.02662,
     "end_time": "2022-11-10T16:09:09.489357",
     "exception": false,
     "start_time": "2022-11-10T16:09:09.462737",
     "status": "completed"
    },
    "tags": []
   },
   "outputs": [
    {
     "name": "stdout",
     "output_type": "stream",
     "text": [
      "day 고윳값: [2 7 5 4 3 1 6]\n",
      "month 고윳값: [ 2  8  1  4 10  3  7  9 12 11  5  6]\n",
      "target 고윳값: [0 1]\n"
     ]
    }
   ],
   "source": [
    "print('day 고윳값:', train['day'].unique())\n",
    "print('month 고윳값:', train['month'].unique())\n",
    "print('target 고윳값:', train['target'].unique())"
   ]
  },
  {
   "cell_type": "code",
   "execution_count": 10,
   "id": "c531bdde",
   "metadata": {
    "execution": {
     "iopub.execute_input": "2022-11-10T16:09:09.509132Z",
     "iopub.status.busy": "2022-11-10T16:09:09.508157Z",
     "iopub.status.idle": "2022-11-10T16:09:10.524421Z",
     "shell.execute_reply": "2022-11-10T16:09:10.523012Z"
    },
    "papermill": {
     "duration": 1.029281,
     "end_time": "2022-11-10T16:09:10.527698",
     "exception": false,
     "start_time": "2022-11-10T16:09:09.498417",
     "status": "completed"
    },
    "tags": []
   },
   "outputs": [],
   "source": [
    "import seaborn as sns\n",
    "import matplotlib as mpl\n",
    "import matplotlib.pyplot as plt\n",
    "%matplotlib inline"
   ]
  },
  {
   "cell_type": "code",
   "execution_count": 11,
   "id": "d76d082f",
   "metadata": {
    "execution": {
     "iopub.execute_input": "2022-11-10T16:09:10.553690Z",
     "iopub.status.busy": "2022-11-10T16:09:10.552272Z",
     "iopub.status.idle": "2022-11-10T16:09:10.825299Z",
     "shell.execute_reply": "2022-11-10T16:09:10.824119Z"
    },
    "papermill": {
     "duration": 0.290743,
     "end_time": "2022-11-10T16:09:10.830882",
     "exception": false,
     "start_time": "2022-11-10T16:09:10.540139",
     "status": "completed"
    },
    "tags": []
   },
   "outputs": [
    {
     "data": {
      "text/plain": [
       "Text(0.5, 1.0, 'Target Distribution')"
      ]
     },
     "execution_count": 11,
     "metadata": {},
     "output_type": "execute_result"
    },
    {
     "data": {
      "image/png": "[encoded data removed]",
      "text/plain": [
       "<Figure size 504x432 with 1 Axes>"
      ]
     },
     "metadata": {
      "needs_background": "light"
     },
     "output_type": "display_data"
    }
   ],
   "source": [
    "mpl.rc('font', size =15)\n",
    "plt.figure(figsize=(7,6))\n",
    "\n",
    "ax = sns.countplot(x='target', data=train)\n",
    "ax.set_title('Target Distribution')"
   ]
  },
  {
   "cell_type": "code",
   "execution_count": 12,
   "id": "6970f910",
   "metadata": {
    "execution": {
     "iopub.execute_input": "2022-11-10T16:09:10.857614Z",
     "iopub.status.busy": "2022-11-10T16:09:10.854110Z",
     "iopub.status.idle": "2022-11-10T16:09:10.864860Z",
     "shell.execute_reply": "2022-11-10T16:09:10.863277Z"
    },
    "papermill": {
     "duration": 0.026221,
     "end_time": "2022-11-10T16:09:10.868791",
     "exception": false,
     "start_time": "2022-11-10T16:09:10.842570",
     "status": "completed"
    },
    "tags": []
   },
   "outputs": [
    {
     "name": "stdout",
     "output_type": "stream",
     "text": [
      "사각형 높이: 208236\n",
      "사각형 너비: 0.8\n",
      "사각형 왼쪽 테두리의 x축 위치: -0.4\n"
     ]
    }
   ],
   "source": [
    "rectangle = ax.patches[0]\n",
    "print('사각형 높이:', rectangle.get_height())\n",
    "print('사각형 너비:', rectangle.get_width())\n",
    "print('사각형 왼쪽 테두리의 x축 위치:', rectangle.get_x())\n"
   ]
  },
  {
   "cell_type": "code",
   "execution_count": 13,
   "id": "bac933c7",
   "metadata": {
    "execution": {
     "iopub.execute_input": "2022-11-10T16:09:10.893297Z",
     "iopub.status.busy": "2022-11-10T16:09:10.892858Z",
     "iopub.status.idle": "2022-11-10T16:09:10.899786Z",
     "shell.execute_reply": "2022-11-10T16:09:10.898486Z"
    },
    "papermill": {
     "duration": 0.021895,
     "end_time": "2022-11-10T16:09:10.903374",
     "exception": false,
     "start_time": "2022-11-10T16:09:10.881479",
     "status": "completed"
    },
    "tags": []
   },
   "outputs": [
    {
     "name": "stdout",
     "output_type": "stream",
     "text": [
      "텍스트 위치의 x좌표: 0.0\n",
      "텍스트 위치의 y좌표: 208536.0\n"
     ]
    }
   ],
   "source": [
    "print('텍스트 위치의 x좌표:', rectangle.get_x() + rectangle.get_width()/2.0)\n",
    "print('텍스트 위치의 y좌표:', rectangle.get_height() + len(train)*0.001)"
   ]
  },
  {
   "cell_type": "code",
   "execution_count": 14,
   "id": "6bb8615c",
   "metadata": {
    "execution": {
     "iopub.execute_input": "2022-11-10T16:09:10.929712Z",
     "iopub.status.busy": "2022-11-10T16:09:10.929292Z",
     "iopub.status.idle": "2022-11-10T16:09:11.139572Z",
     "shell.execute_reply": "2022-11-10T16:09:11.138533Z"
    },
    "papermill": {
     "duration": 0.224668,
     "end_time": "2022-11-10T16:09:11.142020",
     "exception": false,
     "start_time": "2022-11-10T16:09:10.917352",
     "status": "completed"
    },
    "tags": []
   },
   "outputs": [
    {
     "data": {
      "text/plain": [
       "Text(0.5, 1.0, 'Target Distribution')"
      ]
     },
     "execution_count": 14,
     "metadata": {},
     "output_type": "execute_result"
    },
    {
     "data": {
      "image/png": "[encoded data removed]",
      "text/plain": [
       "<Figure size 432x288 with 1 Axes>"
      ]
     },
     "metadata": {
      "needs_background": "light"
     },
     "output_type": "display_data"
    },
    {
     "data": {
      "text/plain": [
       "<Figure size 504x432 with 0 Axes>"
      ]
     },
     "metadata": {},
     "output_type": "display_data"
    }
   ],
   "source": [
    "def write_percent(ax,total_size):\n",
    "    '''도형 객체를 순회하며 막대 상단에 타깃값 비율 표시'''\n",
    "    \n",
    "    for patch in ax.patches:\n",
    "        height = patch.get_height()\n",
    "        width = patch.get_width()\n",
    "        left_coord = patch.get_x()\n",
    "        percent = height/total_size*100\n",
    "        \n",
    "        ax.text(x=left_coord + width/2.0, y = height + total_size*0.001, s = f'{percent:1.1f}%', ha='center')\n",
    "        \n",
    "    plt.figure(figsize = (7,6))\n",
    "ax = sns.countplot(x='target', data = train)\n",
    "write_percent(ax,len(train))\n",
    "ax.set_title('Target Distribution')"
   ]
  },
  {
   "cell_type": "code",
   "execution_count": 15,
   "id": "7dc4d288",
   "metadata": {
    "execution": {
     "iopub.execute_input": "2022-11-10T16:09:11.164358Z",
     "iopub.status.busy": "2022-11-10T16:09:11.163912Z",
     "iopub.status.idle": "2022-11-10T16:09:12.720034Z",
     "shell.execute_reply": "2022-11-10T16:09:12.718844Z"
    },
    "papermill": {
     "duration": 1.570457,
     "end_time": "2022-11-10T16:09:12.722862",
     "exception": false,
     "start_time": "2022-11-10T16:09:11.152405",
     "status": "completed"
    },
    "tags": []
   },
   "outputs": [
    {
     "data": {
      "image/png": "[encoded data removed]",
      "text/plain": [
       "<Figure size 720x1152 with 1 Axes>"
      ]
     },
     "metadata": {
      "needs_background": "light"
     },
     "output_type": "display_data"
    },
    {
     "data": {
      "image/png": "[encoded data removed]",
      "text/plain": [
       "<Figure size 504x432 with 1 Axes>"
      ]
     },
     "metadata": {
      "needs_background": "light"
     },
     "output_type": "display_data"
    },
    {
     "data": {
      "image/png": "[encoded data removed]",
      "text/plain": [
       "<Figure size 504x432 with 1 Axes>"
      ]
     },
     "metadata": {
      "needs_background": "light"
     },
     "output_type": "display_data"
    },
    {
     "data": {
      "image/png": "[encoded data removed]",
      "text/plain": [
       "<Figure size 504x432 with 1 Axes>"
      ]
     },
     "metadata": {
      "needs_background": "light"
     },
     "output_type": "display_data"
    },
    {
     "data": {
      "image/png": "[encoded data removed]",
      "text/plain": [
       "<Figure size 504x432 with 1 Axes>"
      ]
     },
     "metadata": {
      "needs_background": "light"
     },
     "output_type": "display_data"
    },
    {
     "data": {
      "text/plain": [
       "<Figure size 504x432 with 0 Axes>"
      ]
     },
     "metadata": {},
     "output_type": "display_data"
    }
   ],
   "source": [
    "import matplotlib.gridspec as gridspec\n",
    "\n",
    "mpl.rc('font', size = 12)\n",
    "grid = gridspec.GridSpec(3,2)\n",
    "plt.figure(figsize = (10,16))\n",
    "plt.subplots_adjust(wspace=0.4,hspace=0.3)\n",
    "\n",
    "bin_features=['bin_0','bin_1','bin_2','bin_3','bin_4']\n",
    "\n",
    "for idx, feature in enumerate(bin_features):\n",
    "    ax = plt.subplot(grid[idx])\n",
    "    \n",
    "    sns.countplot(x=feature,data=train,hue='target',palette='pastel',ax=ax)\n",
    "    \n",
    "    ax.set_title(f'{feature} Distribution by Target')\n",
    "    write_percent(ax,len(train))"
   ]
  },
  {
   "cell_type": "code",
   "execution_count": 16,
   "id": "31771591",
   "metadata": {
    "execution": {
     "iopub.execute_input": "2022-11-10T16:09:12.748185Z",
     "iopub.status.busy": "2022-11-10T16:09:12.747414Z",
     "iopub.status.idle": "2022-11-10T16:09:12.823486Z",
     "shell.execute_reply": "2022-11-10T16:09:12.822098Z"
    },
    "papermill": {
     "duration": 0.091997,
     "end_time": "2022-11-10T16:09:12.826291",
     "exception": false,
     "start_time": "2022-11-10T16:09:12.734294",
     "status": "completed"
    },
    "tags": []
   },
   "outputs": [
    {
     "data": {
      "text/html": [
       "<div>\n",
       "<style scoped>\n",
       "    .dataframe tbody tr th:only-of-type {\n",
       "        vertical-align: middle;\n",
       "    }\n",
       "\n",
       "    .dataframe tbody tr th {\n",
       "        vertical-align: top;\n",
       "    }\n",
       "\n",
       "    .dataframe thead th {\n",
       "        text-align: right;\n",
       "    }\n",
       "</style>\n",
       "<table border=\"1\" class=\"dataframe\">\n",
       "  <thead>\n",
       "    <tr style=\"text-align: right;\">\n",
       "      <th>target</th>\n",
       "      <th>0</th>\n",
       "      <th>1</th>\n",
       "    </tr>\n",
       "    <tr>\n",
       "      <th>nom_0</th>\n",
       "      <th></th>\n",
       "      <th></th>\n",
       "    </tr>\n",
       "  </thead>\n",
       "  <tbody>\n",
       "    <tr>\n",
       "      <th>Blue</th>\n",
       "      <td>72914</td>\n",
       "      <td>23252</td>\n",
       "    </tr>\n",
       "    <tr>\n",
       "      <th>Green</th>\n",
       "      <td>85682</td>\n",
       "      <td>41659</td>\n",
       "    </tr>\n",
       "    <tr>\n",
       "      <th>Red</th>\n",
       "      <td>49640</td>\n",
       "      <td>26853</td>\n",
       "    </tr>\n",
       "  </tbody>\n",
       "</table>\n",
       "</div>"
      ],
      "text/plain": [
       "target      0      1\n",
       "nom_0               \n",
       "Blue    72914  23252\n",
       "Green   85682  41659\n",
       "Red     49640  26853"
      ]
     },
     "execution_count": 16,
     "metadata": {},
     "output_type": "execute_result"
    }
   ],
   "source": [
    "pd.crosstab(train['nom_0'], train['target'])"
   ]
  },
  {
   "cell_type": "code",
   "execution_count": 17,
   "id": "366e2f0d",
   "metadata": {
    "execution": {
     "iopub.execute_input": "2022-11-10T16:09:12.850836Z",
     "iopub.status.busy": "2022-11-10T16:09:12.850367Z",
     "iopub.status.idle": "2022-11-10T16:09:12.923545Z",
     "shell.execute_reply": "2022-11-10T16:09:12.922339Z"
    },
    "papermill": {
     "duration": 0.088362,
     "end_time": "2022-11-10T16:09:12.926045",
     "exception": false,
     "start_time": "2022-11-10T16:09:12.837683",
     "status": "completed"
    },
    "tags": []
   },
   "outputs": [
    {
     "data": {
      "text/html": [
       "<div>\n",
       "<style scoped>\n",
       "    .dataframe tbody tr th:only-of-type {\n",
       "        vertical-align: middle;\n",
       "    }\n",
       "\n",
       "    .dataframe tbody tr th {\n",
       "        vertical-align: top;\n",
       "    }\n",
       "\n",
       "    .dataframe thead th {\n",
       "        text-align: right;\n",
       "    }\n",
       "</style>\n",
       "<table border=\"1\" class=\"dataframe\">\n",
       "  <thead>\n",
       "    <tr style=\"text-align: right;\">\n",
       "      <th>target</th>\n",
       "      <th>0</th>\n",
       "      <th>1</th>\n",
       "    </tr>\n",
       "    <tr>\n",
       "      <th>nom_0</th>\n",
       "      <th></th>\n",
       "      <th></th>\n",
       "    </tr>\n",
       "  </thead>\n",
       "  <tbody>\n",
       "    <tr>\n",
       "      <th>Blue</th>\n",
       "      <td>75.820976</td>\n",
       "      <td>24.179024</td>\n",
       "    </tr>\n",
       "    <tr>\n",
       "      <th>Green</th>\n",
       "      <td>67.285478</td>\n",
       "      <td>32.714522</td>\n",
       "    </tr>\n",
       "    <tr>\n",
       "      <th>Red</th>\n",
       "      <td>64.894827</td>\n",
       "      <td>35.105173</td>\n",
       "    </tr>\n",
       "  </tbody>\n",
       "</table>\n",
       "</div>"
      ],
      "text/plain": [
       "target          0          1\n",
       "nom_0                       \n",
       "Blue    75.820976  24.179024\n",
       "Green   67.285478  32.714522\n",
       "Red     64.894827  35.105173"
      ]
     },
     "execution_count": 17,
     "metadata": {},
     "output_type": "execute_result"
    }
   ],
   "source": [
    "crosstab = pd.crosstab(train['nom_0'], train['target'], normalize='index')*100\n",
    "crosstab"
   ]
  },
  {
   "cell_type": "code",
   "execution_count": 18,
   "id": "3d72f8ca",
   "metadata": {
    "execution": {
     "iopub.execute_input": "2022-11-10T16:09:12.951451Z",
     "iopub.status.busy": "2022-11-10T16:09:12.950356Z",
     "iopub.status.idle": "2022-11-10T16:09:12.963670Z",
     "shell.execute_reply": "2022-11-10T16:09:12.962400Z"
    },
    "papermill": {
     "duration": 0.028647,
     "end_time": "2022-11-10T16:09:12.966274",
     "exception": false,
     "start_time": "2022-11-10T16:09:12.937627",
     "status": "completed"
    },
    "tags": []
   },
   "outputs": [
    {
     "data": {
      "text/html": [
       "<div>\n",
       "<style scoped>\n",
       "    .dataframe tbody tr th:only-of-type {\n",
       "        vertical-align: middle;\n",
       "    }\n",
       "\n",
       "    .dataframe tbody tr th {\n",
       "        vertical-align: top;\n",
       "    }\n",
       "\n",
       "    .dataframe thead th {\n",
       "        text-align: right;\n",
       "    }\n",
       "</style>\n",
       "<table border=\"1\" class=\"dataframe\">\n",
       "  <thead>\n",
       "    <tr style=\"text-align: right;\">\n",
       "      <th>target</th>\n",
       "      <th>nom_0</th>\n",
       "      <th>0</th>\n",
       "      <th>1</th>\n",
       "    </tr>\n",
       "  </thead>\n",
       "  <tbody>\n",
       "    <tr>\n",
       "      <th>0</th>\n",
       "      <td>Blue</td>\n",
       "      <td>75.820976</td>\n",
       "      <td>24.179024</td>\n",
       "    </tr>\n",
       "    <tr>\n",
       "      <th>1</th>\n",
       "      <td>Green</td>\n",
       "      <td>67.285478</td>\n",
       "      <td>32.714522</td>\n",
       "    </tr>\n",
       "    <tr>\n",
       "      <th>2</th>\n",
       "      <td>Red</td>\n",
       "      <td>64.894827</td>\n",
       "      <td>35.105173</td>\n",
       "    </tr>\n",
       "  </tbody>\n",
       "</table>\n",
       "</div>"
      ],
      "text/plain": [
       "target  nom_0          0          1\n",
       "0        Blue  75.820976  24.179024\n",
       "1       Green  67.285478  32.714522\n",
       "2         Red  64.894827  35.105173"
      ]
     },
     "execution_count": 18,
     "metadata": {},
     "output_type": "execute_result"
    }
   ],
   "source": [
    "crosstab = crosstab.reset_index()\n",
    "crosstab"
   ]
  },
  {
   "cell_type": "code",
   "execution_count": 19,
   "id": "75bfc500",
   "metadata": {
    "execution": {
     "iopub.execute_input": "2022-11-10T16:09:12.991773Z",
     "iopub.status.busy": "2022-11-10T16:09:12.991340Z",
     "iopub.status.idle": "2022-11-10T16:09:13.066436Z",
     "shell.execute_reply": "2022-11-10T16:09:13.065164Z"
    },
    "papermill": {
     "duration": 0.0909,
     "end_time": "2022-11-10T16:09:13.068918",
     "exception": false,
     "start_time": "2022-11-10T16:09:12.978018",
     "status": "completed"
    },
    "tags": []
   },
   "outputs": [
    {
     "data": {
      "text/html": [
       "<div>\n",
       "<style scoped>\n",
       "    .dataframe tbody tr th:only-of-type {\n",
       "        vertical-align: middle;\n",
       "    }\n",
       "\n",
       "    .dataframe tbody tr th {\n",
       "        vertical-align: top;\n",
       "    }\n",
       "\n",
       "    .dataframe thead th {\n",
       "        text-align: right;\n",
       "    }\n",
       "</style>\n",
       "<table border=\"1\" class=\"dataframe\">\n",
       "  <thead>\n",
       "    <tr style=\"text-align: right;\">\n",
       "      <th>target</th>\n",
       "      <th>nom_0</th>\n",
       "      <th>0</th>\n",
       "      <th>1</th>\n",
       "    </tr>\n",
       "  </thead>\n",
       "  <tbody>\n",
       "    <tr>\n",
       "      <th>0</th>\n",
       "      <td>Blue</td>\n",
       "      <td>75.820976</td>\n",
       "      <td>24.179024</td>\n",
       "    </tr>\n",
       "    <tr>\n",
       "      <th>1</th>\n",
       "      <td>Green</td>\n",
       "      <td>67.285478</td>\n",
       "      <td>32.714522</td>\n",
       "    </tr>\n",
       "    <tr>\n",
       "      <th>2</th>\n",
       "      <td>Red</td>\n",
       "      <td>64.894827</td>\n",
       "      <td>35.105173</td>\n",
       "    </tr>\n",
       "  </tbody>\n",
       "</table>\n",
       "</div>"
      ],
      "text/plain": [
       "target  nom_0          0          1\n",
       "0        Blue  75.820976  24.179024\n",
       "1       Green  67.285478  32.714522\n",
       "2         Red  64.894827  35.105173"
      ]
     },
     "execution_count": 19,
     "metadata": {},
     "output_type": "execute_result"
    }
   ],
   "source": [
    "def get_crosstab(df, feature):\n",
    "    crosstab = pd.crosstab(df[feature], df['target'],normalize='index')*100\n",
    "    crosstab = crosstab.reset_index()\n",
    "    return crosstab\n",
    "\n",
    "crosstab = get_crosstab(train, 'nom_0')\n",
    "crosstab"
   ]
  },
  {
   "cell_type": "code",
   "execution_count": 20,
   "id": "b0fc8fbc",
   "metadata": {
    "execution": {
     "iopub.execute_input": "2022-11-10T16:09:13.094967Z",
     "iopub.status.busy": "2022-11-10T16:09:13.094477Z",
     "iopub.status.idle": "2022-11-10T16:09:13.101631Z",
     "shell.execute_reply": "2022-11-10T16:09:13.100327Z"
    },
    "papermill": {
     "duration": 0.022848,
     "end_time": "2022-11-10T16:09:13.104064",
     "exception": false,
     "start_time": "2022-11-10T16:09:13.081216",
     "status": "completed"
    },
    "tags": []
   },
   "outputs": [],
   "source": [
    "def plot_pointplot(ax,feature, crosstab):\n",
    "    ax2 = ax.twinx()\n",
    "    ax2 = sns.pointplot(x=feature, y=1, data=crosstab, order=crosstab[feature].values,color='black',legend=False)\n",
    "    ax2.set_ylim(crosstab[1].min()-5, crosstab[1].max()*1.1)\n",
    "    ax2.set_ylabel('Target 1 Ratio')"
   ]
  },
  {
   "cell_type": "code",
   "execution_count": 21,
   "id": "722f3577",
   "metadata": {
    "execution": {
     "iopub.execute_input": "2022-11-10T16:09:13.130719Z",
     "iopub.status.busy": "2022-11-10T16:09:13.129467Z",
     "iopub.status.idle": "2022-11-10T16:09:13.139212Z",
     "shell.execute_reply": "2022-11-10T16:09:13.137766Z"
    },
    "papermill": {
     "duration": 0.025723,
     "end_time": "2022-11-10T16:09:13.141871",
     "exception": false,
     "start_time": "2022-11-10T16:09:13.116148",
     "status": "completed"
    },
    "tags": []
   },
   "outputs": [],
   "source": [
    "def plot_cat_dish_with_true_ratio(df, features, num_rows, num_cols, size=(15,20)):\n",
    "    plt.figure(figsize=size)\n",
    "    grid = gridspec.GridSpec(num_rows, num_cols)\n",
    "    plt.subplots_adjust(wspace=0.45, hspace=0.3)\n",
    "    \n",
    "    for idx, feature in enumerate(features):\n",
    "        ax = plt.subplot(grid[idx])\n",
    "        crosstab = get_crosstab(df,feature)\n",
    "        \n",
    "        sns.countplot(x=feature, data=df, order=crosstab[feature].values, color='skyblue', ax=ax)\n",
    "        \n",
    "        write_percent(ax, len(df))\n",
    "        plot_pointplot(ax, feature, crosstab)\n",
    "        ax.set_title(f'{feature} Distribution')"
   ]
  },
  {
   "cell_type": "code",
   "execution_count": 22,
   "id": "0761343e",
   "metadata": {
    "execution": {
     "iopub.execute_input": "2022-11-10T16:09:13.168030Z",
     "iopub.status.busy": "2022-11-10T16:09:13.167144Z",
     "iopub.status.idle": "2022-11-10T16:09:15.782219Z",
     "shell.execute_reply": "2022-11-10T16:09:15.780928Z"
    },
    "papermill": {
     "duration": 2.631035,
     "end_time": "2022-11-10T16:09:15.784926",
     "exception": false,
     "start_time": "2022-11-10T16:09:13.153891",
     "status": "completed"
    },
    "tags": []
   },
   "outputs": [
    {
     "data": {
      "image/png": "[encoded data removed]",
      "text/plain": [
       "<Figure size 1080x1440 with 2 Axes>"
      ]
     },
     "metadata": {
      "needs_background": "light"
     },
     "output_type": "display_data"
    },
    {
     "data": {
      "image/png": "[encoded data removed]",
      "text/plain": [
       "<Figure size 504x432 with 2 Axes>"
      ]
     },
     "metadata": {
      "needs_background": "light"
     },
     "output_type": "display_data"
    },
    {
     "data": {
      "image/png": "[encoded data removed]",
      "text/plain": [
       "<Figure size 504x432 with 2 Axes>"
      ]
     },
     "metadata": {
      "needs_background": "light"
     },
     "output_type": "display_data"
    },
    {
     "data": {
      "image/png": "[encoded data removed]",
      "text/plain": [
       "<Figure size 504x432 with 2 Axes>"
      ]
     },
     "metadata": {
      "needs_background": "light"
     },
     "output_type": "display_data"
    },
    {
     "data": {
      "image/png": "[encoded data removed]",
      "text/plain": [
       "<Figure size 504x432 with 2 Axes>"
      ]
     },
     "metadata": {
      "needs_background": "light"
     },
     "output_type": "display_data"
    },
    {
     "data": {
      "image/png": "[encoded data removed]",
      "text/plain": [
       "<Figure size 504x432 with 1 Axes>"
      ]
     },
     "metadata": {
      "needs_background": "light"
     },
     "output_type": "display_data"
    }
   ],
   "source": [
    "nom_features = ['nom_0', 'nom_1','nom_2', 'nom_3','nom_4']\n",
    "plot_cat_dish_with_true_ratio(train, nom_features, num_rows=3,num_cols=2)"
   ]
  },
  {
   "cell_type": "code",
   "execution_count": 23,
   "id": "9661ac6a",
   "metadata": {
    "execution": {
     "iopub.execute_input": "2022-11-10T16:09:15.816007Z",
     "iopub.status.busy": "2022-11-10T16:09:15.815437Z",
     "iopub.status.idle": "2022-11-10T16:09:18.002487Z",
     "shell.execute_reply": "2022-11-10T16:09:18.001185Z"
    },
    "papermill": {
     "duration": 2.20561,
     "end_time": "2022-11-10T16:09:18.004973",
     "exception": false,
     "start_time": "2022-11-10T16:09:15.799363",
     "status": "completed"
    },
    "tags": []
   },
   "outputs": [
    {
     "data": {
      "image/png": "[encoded data removed]",
      "text/plain": [
       "<Figure size 1080x1440 with 2 Axes>"
      ]
     },
     "metadata": {
      "needs_background": "light"
     },
     "output_type": "display_data"
    },
    {
     "data": {
      "image/png": "[encoded data removed]",
      "text/plain": [
       "<Figure size 504x432 with 2 Axes>"
      ]
     },
     "metadata": {
      "needs_background": "light"
     },
     "output_type": "display_data"
    },
    {
     "data": {
      "image/png": "[encoded data removed]",
      "text/plain": [
       "<Figure size 504x432 with 2 Axes>"
      ]
     },
     "metadata": {
      "needs_background": "light"
     },
     "output_type": "display_data"
    },
    {
     "data": {
      "image/png": "[encoded data removed]",
      "text/plain": [
       "<Figure size 504x432 with 2 Axes>"
      ]
     },
     "metadata": {
      "needs_background": "light"
     },
     "output_type": "display_data"
    },
    {
     "data": {
      "image/png": "[encoded data removed]",
      "text/plain": [
       "<Figure size 504x432 with 1 Axes>"
      ]
     },
     "metadata": {
      "needs_background": "light"
     },
     "output_type": "display_data"
    }
   ],
   "source": [
    "ord_features = ['ord_0','ord_1','ord_2','ord_3']\n",
    "plot_cat_dish_with_true_ratio(train, ord_features, num_rows=2,num_cols=2)"
   ]
  },
  {
   "cell_type": "code",
   "execution_count": null,
   "id": "aec28f0d",
   "metadata": {
    "papermill": {
     "duration": 0.015315,
     "end_time": "2022-11-10T16:09:18.036178",
     "exception": false,
     "start_time": "2022-11-10T16:09:18.020863",
     "status": "completed"
    },
    "tags": []
   },
   "outputs": [],
   "source": []
  }
 ],
 "metadata": {
  "kernelspec": {
   "display_name": "Python 3",
   "language": "python",
   "name": "python3"
  },
  "language_info": {
   "codemirror_mode": {
    "name": "ipython",
    "version": 3
   },
   "file_extension": ".py",
   "mimetype": "text/x-python",
   "name": "python",
   "nbconvert_exporter": "python",
   "pygments_lexer": "ipython3",
   "version": "3.7.12"
  },
  "papermill": {
   "default_parameters": {},
   "duration": 31.29643,
   "end_time": "2022-11-10T16:09:18.875541",
   "environment_variables": {},
   "exception": null,
   "input_path": "__notebook__.ipynb",
   "output_path": "__notebook__.ipynb",
   "parameters": {},
   "start_time": "2022-11-10T16:08:47.579111",
   "version": "2.3.4"
  }
 },
 "nbformat": 4,
 "nbformat_minor": 5
}
